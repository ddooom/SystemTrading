{
 "cells": [
  {
   "cell_type": "code",
   "execution_count": 3,
   "id": "8e611cb1-19d9-4947-b262-663734fd7611",
   "metadata": {},
   "outputs": [],
   "source": [
    "import numpy as np\n",
    "import pandas as pd\n",
    "import torch"
   ]
  },
  {
   "cell_type": "code",
   "execution_count": 2,
   "id": "7a6b0157-8ffb-46ad-b7ae-34feb356dd4e",
   "metadata": {},
   "outputs": [],
   "source": [
    "import pandas_datareader.data as web\n",
    "import datetime"
   ]
  },
  {
   "cell_type": "code",
   "execution_count": 4,
   "id": "06439f52-421b-4f25-bebe-37d71a4a91a0",
   "metadata": {},
   "outputs": [],
   "source": [
    "start = datetime.datetime(2010, 1, 1)\n",
    "end = datetime.datetime(2016, 6, 12)\n",
    "df = web.DataReader(\"078930.KS\", \"yahoo\", start, end)"
   ]
  },
  {
   "cell_type": "code",
   "execution_count": 89,
   "id": "68664ef5-2c34-491a-9385-1a90f9677173",
   "metadata": {},
   "outputs": [],
   "source": [
    "class DLDataset(torch.utils.data.Dataset):\n",
    "    def __init__(self, df): #, config):\n",
    "        self.df = df\n",
    "        #self.config = config\n",
    "        \n",
    "        self.data = self._feature_engineering(df)\n",
    "        \n",
    "    def _feature_engineering(self, df):\n",
    "        # Initial features\n",
    "        High = df['High'].values\n",
    "        Low = df['Low'].values\n",
    "        Open = df['Open'].values\n",
    "        Close = df['Close'].values\n",
    "        Volume = df['Volume'].values\n",
    "        \n",
    "        # Percentage of Change\n",
    "        \n",
    "        # MFI\n",
    "        MF = Volume * (High + Low + Close) / 3\n",
    "        \n",
    "        # Moving Everage\n",
    "        \n",
    "        # Bollinger Bands\n",
    "        \n",
    "        # Define features\n",
    "        start_index = 20\n",
    "        using_features = [High, Low, Open, Volume]\n",
    "        x = np.array(using_features).T[start_index:-1]\n",
    "        y = Close[start_index+1:].reshape([-1,1])\n",
    "        data = np.hstack((x,y))\n",
    "        \n",
    "        return data\n",
    "        \n",
    "    def __getitem__(self, index):\n",
    "        # x : column index 0 ~ -1, y : last column\n",
    "        return torch.tensor(self.data[index])\n",
    "    \n",
    "    def __len__(self):\n",
    "        return len(self.data)"
   ]
  },
  {
   "cell_type": "code",
   "execution_count": 90,
   "id": "6cb4d783-4990-46bb-8398-5c4e16610e36",
   "metadata": {},
   "outputs": [],
   "source": [
    "dataset = DLDataset(df)"
   ]
  },
  {
   "cell_type": "code",
   "execution_count": 95,
   "id": "f9d4ccd3-e36e-4261-a1f7-542fbc4f827a",
   "metadata": {},
   "outputs": [],
   "source": [
    "from torch.utils.data import DataLoader\n",
    "dataloader = DataLoader(dataset, batch_size=8, shuffle=False)"
   ]
  },
  {
   "cell_type": "code",
   "execution_count": 97,
   "id": "d34f4ee3-6910-478e-b0b4-1f7d5016bb90",
   "metadata": {},
   "outputs": [],
   "source": [
    "for i in dataloader:\n",
    "    break"
   ]
  },
  {
   "cell_type": "code",
   "execution_count": 98,
   "id": "a6f030a4-e6f4-4955-b765-e6d3fcea7584",
   "metadata": {},
   "outputs": [
    {
     "data": {
      "text/plain": [
       "tensor([[ 34650.,  34000.,  34550., 237983.,  34200.],\n",
       "        [ 35400.,  33100.,  35400., 796832.,  34850.],\n",
       "        [ 35400.,  34400.,  34700., 357028.,  36100.],\n",
       "        [ 36350.,  34850.,  35000., 659231.,  35850.],\n",
       "        [ 36100.,  34950.,  35000., 644162.,  35750.],\n",
       "        [ 36200.,  35400.,  36000., 410137.,  35800.],\n",
       "        [ 36100.,  35450.,  35750., 518617.,  35800.],\n",
       "        [ 36500.,  35700.,  36500., 279412.,  37400.]], dtype=torch.float64)"
      ]
     },
     "execution_count": 98,
     "metadata": {},
     "output_type": "execute_result"
    }
   ],
   "source": [
    "i"
   ]
  },
  {
   "cell_type": "code",
   "execution_count": null,
   "id": "a972fc4f-21c3-432a-95bc-9e7b2efc7b9d",
   "metadata": {},
   "outputs": [],
   "source": []
  }
 ],
 "metadata": {
  "kernelspec": {
   "display_name": "systemtrading",
   "language": "python",
   "name": ".env"
  },
  "language_info": {
   "codemirror_mode": {
    "name": "ipython",
    "version": 3
   },
   "file_extension": ".py",
   "mimetype": "text/x-python",
   "name": "python",
   "nbconvert_exporter": "python",
   "pygments_lexer": "ipython3",
   "version": "3.7.0"
  }
 },
 "nbformat": 4,
 "nbformat_minor": 5
}
