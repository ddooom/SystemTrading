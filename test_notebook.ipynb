{
 "cells": [
  {
   "cell_type": "code",
   "execution_count": null,
   "id": "8f298e1b-d134-44ed-91a9-b377912d07bd",
   "metadata": {},
   "outputs": [],
   "source": [
    "# upbit api reference\n",
    "\n",
    "import os\n",
    "import jwt\n",
    "import uuid\n",
    "import hashlib\n",
    "from urllib.parse import urlencode\n",
    "\n",
    "import requests\n",
    "\n",
    "access_key = os.environ['UPBIT_OPEN_API_ACCESS_KEY']\n",
    "secret_key = os.environ['UPBIT_OPEN_API_SECRET_KEY']\n",
    "server_url = os.environ['UPBIT_OPEN_API_SERVER_URL']\n",
    "\n",
    "payload = {\n",
    "    'access_key': access_key,\n",
    "    'nonce': str(uuid.uuid4()),\n",
    "}\n",
    "\n",
    "jwt_token = jwt.encode(payload, secret_key)\n",
    "authorize_token = 'Bearer {}'.format(jwt_token)\n",
    "headers = {\"Authorization\": authorize_token}\n",
    "\n",
    "res = requests.get(server_url + \"/v1/accounts\", headers=headers)\n",
    "\n",
    "print(res.json())"
   ]
  }
 ],
 "metadata": {
  "kernelspec": {
   "display_name": "Python 3 (ipykernel)",
   "language": "python",
   "name": "python3"
  },
  "language_info": {
   "codemirror_mode": {
    "name": "ipython",
    "version": 3
   },
   "file_extension": ".py",
   "mimetype": "text/x-python",
   "name": "python",
   "nbconvert_exporter": "python",
   "pygments_lexer": "ipython3",
   "version": "3.9.1"
  }
 },
 "nbformat": 4,
 "nbformat_minor": 5
}
