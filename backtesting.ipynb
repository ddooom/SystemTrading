{
 "cells": [
  {
   "cell_type": "code",
   "execution_count": null,
   "id": "d1bcf85f-a9be-4d79-9af8-efd0a98c16ec",
   "metadata": {},
   "outputs": [],
   "source": [
    "import time\n",
    "import copy\n",
    "from datetime import datetime, timedelta\n",
    "\n",
    "from easydict import EasyDict\n",
    "import numpy as np\n",
    "import pandas as pd\n",
    "\n",
    "import pyupbit\n",
    "from fbprophet import Prophet\n",
    "from modules import utils, upbitfunc, models, strategies, validation"
   ]
  },
  {
   "cell_type": "code",
   "execution_count": null,
   "id": "a1877f8e-d89c-4c30-8577-f060d73e5ac5",
   "metadata": {},
   "outputs": [],
   "source": [
    "config_name = 'config1'"
   ]
  },
  {
   "cell_type": "code",
   "execution_count": null,
   "id": "b90b0d27-b3f8-47a7-a949-6ec892fc045d",
   "metadata": {},
   "outputs": [],
   "source": [
    "config = utils.get_json(f'./config/{config_name}.json')\n",
    "config = EasyDict(config)\n",
    "config = utils.set_config_restrictions(config)"
   ]
  },
  {
   "cell_type": "code",
   "execution_count": null,
   "id": "aab9f347-9d7e-4709-9468-15bd5dfcfefd",
   "metadata": {},
   "outputs": [],
   "source": [
    "seed = 10000000\n",
    "coin = 0\n",
    "start_date = '20220215 09'\n",
    "end_date = '20220301 09'"
   ]
  },
  {
   "cell_type": "code",
   "execution_count": null,
   "id": "3680900e-03d3-4abd-8640-396666407729",
   "metadata": {},
   "outputs": [],
   "source": [
    "date_list = []\n",
    "date = datetime.strptime(start_date, '%Y%m%d %H')\n",
    "end_date = datetime.strptime(end_date, '%Y%m%d %H')\n",
    "while date != end_date:\n",
    "    date_list.append(date.strftime(\"%Y%m%d %H\"))\n",
    "    date += timedelta(hours=1)"
   ]
  },
  {
   "cell_type": "code",
   "execution_count": null,
   "id": "74805135-115a-45ba-ae9c-7aac820b8c4e",
   "metadata": {
    "scrolled": true,
    "tags": []
   },
   "outputs": [],
   "source": [
    "y_list, yhat_list, mae = validation.model_validation(config, date_list)"
   ]
  },
  {
   "cell_type": "code",
   "execution_count": null,
   "id": "9d60de05-82f6-4344-868c-3aaee9628827",
   "metadata": {},
   "outputs": [],
   "source": []
  },
  {
   "cell_type": "code",
   "execution_count": null,
   "id": "7c51572c-71d4-4af2-9565-c414c7774104",
   "metadata": {},
   "outputs": [],
   "source": []
  },
  {
   "cell_type": "code",
   "execution_count": null,
   "id": "bf46a717-c318-454f-bf71-4a7391494915",
   "metadata": {},
   "outputs": [],
   "source": []
  },
  {
   "cell_type": "code",
   "execution_count": null,
   "id": "1e5bff53-0de9-4d37-9751-75c72c6a8e96",
   "metadata": {},
   "outputs": [],
   "source": [
    "for date in date_list:\n",
    "    config.dataset.to = date\n",
    "    if config.model.name == 'prophet':\n",
    "        model = models.ProphetModel(config)\n",
    "    \n",
    "    if config.trade.strategy == 'Volatility Break-out':\n",
    "        if config.trade.cycle == 'day':\n",
    "            strategy = strategies.VolatilityBreakoutDayCycle(config, model)\n",
    "    \n",
    "    if seed != 0:\n",
    "        cur, tar, seed, coin = strategy.backtest(seed, coin)\n",
    "    \n",
    "    print(date, cur, tar, seed, coin)\n",
    "    print()\n",
    "        "
   ]
  },
  {
   "cell_type": "code",
   "execution_count": null,
   "id": "cae53117-c2ea-45bb-bc32-b9bd8c4acdc8",
   "metadata": {},
   "outputs": [],
   "source": []
  },
  {
   "cell_type": "code",
   "execution_count": null,
   "id": "9cd6ba2f-77cc-4cb3-acdb-4a28187c5d8c",
   "metadata": {},
   "outputs": [],
   "source": []
  },
  {
   "cell_type": "code",
   "execution_count": null,
   "id": "1568cce0-e11c-4e1c-a9e6-9b845c974b68",
   "metadata": {},
   "outputs": [],
   "source": []
  }
 ],
 "metadata": {
  "kernelspec": {
   "display_name": "systemtrading",
   "language": "python",
   "name": ".env"
  },
  "language_info": {
   "codemirror_mode": {
    "name": "ipython",
    "version": 3
   },
   "file_extension": ".py",
   "mimetype": "text/x-python",
   "name": "python",
   "nbconvert_exporter": "python",
   "pygments_lexer": "ipython3",
   "version": "3.7.0"
  }
 },
 "nbformat": 4,
 "nbformat_minor": 5
}
